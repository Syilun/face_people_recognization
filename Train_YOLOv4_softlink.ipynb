{
  "nbformat": 4,
  "nbformat_minor": 0,
  "metadata": {
    "colab": {
      "name": "Train_YOLOv4_softlink.ipynb",
      "provenance": [],
      "collapsed_sections": [],
      "include_colab_link": true
    },
    "kernelspec": {
      "name": "python3",
      "display_name": "Python 3"
    },
    "accelerator": "GPU"
  },
  "cells": [
    {
      "cell_type": "markdown",
      "metadata": {
        "id": "view-in-github",
        "colab_type": "text"
      },
      "source": [
        "<a href=\"https://colab.research.google.com/github/Syilun/face_people_recognization/blob/master/Train_YOLOv4_softlink.ipynb\" target=\"_parent\"><img src=\"https://colab.research.google.com/assets/colab-badge.svg\" alt=\"Open In Colab\"/></a>"
      ]
    },
    {
      "cell_type": "markdown",
      "metadata": {
        "id": "oer-Vlcfmh_i",
        "colab_type": "text"
      },
      "source": [
        "## 記得先打開GPU\n",
        "* 編輯 >> 筆記本設定 >> 硬體加速器 --> GPU"
      ]
    },
    {
      "cell_type": "markdown",
      "metadata": {
        "id": "g9XnitAOVv3v",
        "colab_type": "text"
      },
      "source": [
        "## 檢查GPU型號"
      ]
    },
    {
      "cell_type": "code",
      "metadata": {
        "id": "WdKZpSa2MEpt",
        "colab_type": "code",
        "colab": {
          "base_uri": "https://localhost:8080/",
          "height": 357
        },
        "outputId": "acc3b09f-bf48-4e1b-8033-267215ebb691"
      },
      "source": [
        "# check NVIDIA GPU\n",
        "! nvidia-smi"
      ],
      "execution_count": null,
      "outputs": [
        {
          "output_type": "stream",
          "text": [
            "Sun Aug 16 16:36:37 2020       \n",
            "+-----------------------------------------------------------------------------+\n",
            "| NVIDIA-SMI 450.57       Driver Version: 418.67       CUDA Version: 10.1     |\n",
            "|-------------------------------+----------------------+----------------------+\n",
            "| GPU  Name        Persistence-M| Bus-Id        Disp.A | Volatile Uncorr. ECC |\n",
            "| Fan  Temp  Perf  Pwr:Usage/Cap|         Memory-Usage | GPU-Util  Compute M. |\n",
            "|                               |                      |               MIG M. |\n",
            "|===============================+======================+======================|\n",
            "|   0  Tesla K80           Off  | 00000000:00:04.0 Off |                    0 |\n",
            "| N/A   73C    P8    33W / 149W |      0MiB / 11441MiB |      0%      Default |\n",
            "|                               |                      |                 ERR! |\n",
            "+-------------------------------+----------------------+----------------------+\n",
            "                                                                               \n",
            "+-----------------------------------------------------------------------------+\n",
            "| Processes:                                                                  |\n",
            "|  GPU   GI   CI        PID   Type   Process name                  GPU Memory |\n",
            "|        ID   ID                                                   Usage      |\n",
            "|=============================================================================|\n",
            "|  No running processes found                                                 |\n",
            "+-----------------------------------------------------------------------------+\n"
          ],
          "name": "stdout"
        }
      ]
    },
    {
      "cell_type": "markdown",
      "metadata": {
        "id": "yf236pwSWAqt",
        "colab_type": "text"
      },
      "source": [
        "## 下載 Darknet (AlexeyAB 版本)"
      ]
    },
    {
      "cell_type": "code",
      "metadata": {
        "id": "Nx4i572bVvfj",
        "colab_type": "code",
        "colab": {
          "base_uri": "https://localhost:8080/",
          "height": 34
        },
        "outputId": "128fb882-6301-4923-87a3-80807801ab88"
      },
      "source": [
        "! git clone https://github.com/AlexeyAB/darknet.git"
      ],
      "execution_count": null,
      "outputs": [
        {
          "output_type": "stream",
          "text": [
            "fatal: destination path 'darknet' already exists and is not an empty directory.\n"
          ],
          "name": "stdout"
        }
      ]
    },
    {
      "cell_type": "code",
      "metadata": {
        "id": "gyTbW7r4GKmS",
        "colab_type": "code",
        "colab": {
          "base_uri": "https://localhost:8080/",
          "height": 187
        },
        "outputId": "56f55568-96f6-490e-b3d0-98523ccd6bb3"
      },
      "source": [
        "!head darknet/Makefile"
      ],
      "execution_count": null,
      "outputs": [
        {
          "output_type": "stream",
          "text": [
            "GPU=1\n",
            "CUDNN=1\n",
            "CUDNN_HALF=0\n",
            "OPENCV=1\n",
            "AVX=0\n",
            "OPENMP=0\n",
            "LIBSO=0\n",
            "ZED_CAMERA=0\n",
            "ZED_CAMERA_v2_8=0\n",
            "\n"
          ],
          "name": "stdout"
        }
      ]
    },
    {
      "cell_type": "markdown",
      "metadata": {
        "id": "NUYUWsz9hVDa",
        "colab_type": "text"
      },
      "source": [
        "# 指定訓練/測試資料\n",
        "### 在 /cfg 建立 `train.txt` , `test.txt`"
      ]
    },
    {
      "cell_type": "code",
      "metadata": {
        "id": "mKycs-Xk7W7i",
        "colab_type": "code",
        "colab": {
          "base_uri": "https://localhost:8080/",
          "height": 68
        },
        "outputId": "027a356d-3a24-4102-dfbe-520eb3123713"
      },
      "source": [
        "# 若檔案存在則先刪除\n",
        "! rm {GDRIVE_YOLO_CFG_PATH}/train.txt\n",
        "! rm {GDRIVE_YOLO_CFG_PATH}/test.txt\n",
        "! ls -al {GDRIVE_YOLO_CFG_PATH}"
      ],
      "execution_count": null,
      "outputs": [
        {
          "output_type": "stream",
          "text": [
            "rm: cannot remove '{GDRIVE_YOLO_CFG_PATH}/train.txt': No such file or directory\n",
            "rm: cannot remove '{GDRIVE_YOLO_CFG_PATH}/test.txt': No such file or directory\n",
            "ls: cannot access '{GDRIVE_YOLO_CFG_PATH}': No such file or directory\n"
          ],
          "name": "stdout"
        }
      ]
    },
    {
      "cell_type": "code",
      "metadata": {
        "id": "YTgIMH5X7MpH",
        "colab_type": "code",
        "colab": {
          "base_uri": "https://localhost:8080/",
          "height": 233
        },
        "outputId": "ca7f521f-3dbe-4a2b-95e5-f36b79f1fb17"
      },
      "source": [
        "import os\n",
        "\n",
        "datasets = [GDRIVE_YOLO_DATA_PATH_py + '/' + f for f in os.listdir(GDRIVE_YOLO_DATA_PATH_py) if f.endswith('.jpg')]\n",
        "split_boundary = int(len(datasets) * 0.8)"
      ],
      "execution_count": null,
      "outputs": [
        {
          "output_type": "error",
          "ename": "NameError",
          "evalue": "ignored",
          "traceback": [
            "\u001b[0;31m---------------------------------------------------------------------------\u001b[0m",
            "\u001b[0;31mNameError\u001b[0m                                 Traceback (most recent call last)",
            "\u001b[0;32m<ipython-input-12-86e72fe0d38e>\u001b[0m in \u001b[0;36m<module>\u001b[0;34m()\u001b[0m\n\u001b[1;32m      1\u001b[0m \u001b[0;32mimport\u001b[0m \u001b[0mos\u001b[0m\u001b[0;34m\u001b[0m\u001b[0;34m\u001b[0m\u001b[0m\n\u001b[1;32m      2\u001b[0m \u001b[0;34m\u001b[0m\u001b[0m\n\u001b[0;32m----> 3\u001b[0;31m \u001b[0mdatasets\u001b[0m \u001b[0;34m=\u001b[0m \u001b[0;34m[\u001b[0m\u001b[0mGDRIVE_YOLO_DATA_PATH_py\u001b[0m \u001b[0;34m+\u001b[0m \u001b[0;34m'/'\u001b[0m \u001b[0;34m+\u001b[0m \u001b[0mf\u001b[0m \u001b[0;32mfor\u001b[0m \u001b[0mf\u001b[0m \u001b[0;32min\u001b[0m \u001b[0mos\u001b[0m\u001b[0;34m.\u001b[0m\u001b[0mlistdir\u001b[0m\u001b[0;34m(\u001b[0m\u001b[0mGDRIVE_YOLO_DATA_PATH_py\u001b[0m\u001b[0;34m)\u001b[0m \u001b[0;32mif\u001b[0m \u001b[0mf\u001b[0m\u001b[0;34m.\u001b[0m\u001b[0mendswith\u001b[0m\u001b[0;34m(\u001b[0m\u001b[0;34m'.jpg'\u001b[0m\u001b[0;34m)\u001b[0m\u001b[0;34m]\u001b[0m\u001b[0;34m\u001b[0m\u001b[0;34m\u001b[0m\u001b[0m\n\u001b[0m\u001b[1;32m      4\u001b[0m \u001b[0msplit_boundary\u001b[0m \u001b[0;34m=\u001b[0m \u001b[0mint\u001b[0m\u001b[0;34m(\u001b[0m\u001b[0mlen\u001b[0m\u001b[0;34m(\u001b[0m\u001b[0mdatasets\u001b[0m\u001b[0;34m)\u001b[0m \u001b[0;34m*\u001b[0m \u001b[0;36m0.8\u001b[0m\u001b[0;34m)\u001b[0m\u001b[0;34m\u001b[0m\u001b[0;34m\u001b[0m\u001b[0m\n",
            "\u001b[0;31mNameError\u001b[0m: name 'GDRIVE_YOLO_DATA_PATH_py' is not defined"
          ]
        }
      ]
    },
    {
      "cell_type": "code",
      "metadata": {
        "id": "TqCKUmYXj_Uy",
        "colab_type": "code",
        "colab": {}
      },
      "source": [
        "from google.colab import drive\n",
        "drive.mount('/content/drive')"
      ],
      "execution_count": null,
      "outputs": []
    },
    {
      "cell_type": "code",
      "metadata": {
        "id": "QsmSFnzIcMQx",
        "colab_type": "code",
        "colab": {}
      },
      "source": [
        "print(\"訓練資料數：\", split_boundary)"
      ],
      "execution_count": null,
      "outputs": []
    },
    {
      "cell_type": "code",
      "metadata": {
        "id": "uTMsnkSl8_kE",
        "colab_type": "code",
        "colab": {}
      },
      "source": [
        "with open(GDRIVE_YOLO_CFG_PATH_py + '/' + 'train.txt', 'w') as f:\n",
        "    f.write('\\n'.join(datasets[0:split_boundary]))"
      ],
      "execution_count": null,
      "outputs": []
    },
    {
      "cell_type": "code",
      "metadata": {
        "id": "i60ObLMyiGYd",
        "colab_type": "code",
        "colab": {}
      },
      "source": [
        "# 查看 train.txt\n",
        "! head /content/drive/My\\ Drive/people/cfg/train.txt"
      ],
      "execution_count": null,
      "outputs": []
    },
    {
      "cell_type": "code",
      "metadata": {
        "id": "9OnZFxl8hJAz",
        "colab_type": "code",
        "colab": {}
      },
      "source": [
        "! cat /content/drive/My\\ Drive/people/yolos/img_6411.txt"
      ],
      "execution_count": null,
      "outputs": []
    },
    {
      "cell_type": "code",
      "metadata": {
        "id": "yQgayHr49AHK",
        "colab_type": "code",
        "colab": {}
      },
      "source": [
        "with open(GDRIVE_YOLO_CFG_PATH_py + '/' + 'test.txt', 'w') as f:\n",
        "    f.write('\\n'.join(datasets[split_boundary:]))"
      ],
      "execution_count": null,
      "outputs": []
    },
    {
      "cell_type": "code",
      "metadata": {
        "id": "oMGlPwLIjasJ",
        "colab_type": "code",
        "colab": {}
      },
      "source": [
        "# 查看 test.txt\n",
        "# ! head /content/drive/My\\ Drive/people/cfg/test.txt\n",
        "! head /people/cfg/test.txt"
      ],
      "execution_count": null,
      "outputs": []
    },
    {
      "cell_type": "markdown",
      "metadata": {
        "id": "p2Kr665GvkL0",
        "colab_type": "text"
      },
      "source": [
        "# 開始訓練"
      ]
    },
    {
      "cell_type": "markdown",
      "metadata": {
        "id": "S3DB5C8WXjMB",
        "colab_type": "text"
      },
      "source": [
        "#### 編譯 YOLOv4"
      ]
    },
    {
      "cell_type": "code",
      "metadata": {
        "id": "63eB19czXR5g",
        "colab_type": "code",
        "colab": {}
      },
      "source": [
        "from time import time\n",
        "\n",
        "start = time()\n",
        "! cd darknet; make\n",
        "print(\"經過時間 = {:4.2f} 秒\" .format(time()-start))"
      ],
      "execution_count": null,
      "outputs": []
    },
    {
      "cell_type": "markdown",
      "metadata": {
        "id": "OyGpNwzz5mYe",
        "colab_type": "text"
      },
      "source": [
        "#### (Option) 下載 pre-trained weithts"
      ]
    },
    {
      "cell_type": "code",
      "metadata": {
        "id": "2b6ls-bscNYA",
        "colab_type": "code",
        "colab": {}
      },
      "source": [
        "# 如果是第一次Train才下載此pre-trained weight !!!!!!!!\n",
        "# 如果要接續之前訓練產生的結果則不必執行\n",
        "!wget https://github.com/AlexeyAB/darknet/releases/download/darknet_yolo_v3_optimal/yolov4.conv.137"
      ],
      "execution_count": null,
      "outputs": []
    },
    {
      "cell_type": "code",
      "metadata": {
        "id": "380L_0iJrZQ8",
        "colab_type": "code",
        "colab": {}
      },
      "source": [
        "! cat /content/drive/My\\ Drive/people/cfg/obj-person.data"
      ],
      "execution_count": null,
      "outputs": []
    },
    {
      "cell_type": "code",
      "metadata": {
        "id": "pbASyoLCuqmR",
        "colab_type": "code",
        "colab": {}
      },
      "source": [
        "! cat /content/cfg/obj-person.data"
      ],
      "execution_count": null,
      "outputs": []
    },
    {
      "cell_type": "markdown",
      "metadata": {
        "id": "m1xoL2D_0PwT",
        "colab_type": "text"
      },
      "source": [
        "### 以下擇一執行訓練"
      ]
    },
    {
      "cell_type": "code",
      "metadata": {
        "id": "mSufrgkVu4Pg",
        "colab_type": "code",
        "colab": {}
      },
      "source": [
        "# (1) 使用pre-trained weights - 訓練單一類別 person\n",
        "! darknet/darknet detector train {GDRIVE_YOLO_CFG_PATH}/obj-person.data {GDRIVE_YOLO_CFG_PATH}/yolov4-person.cfg yolov4.conv.137 -dont_show | grep \"avg loss\"\n",
        "\n",
        "# (2) 使用pre-trained weights - 訓練17種類別\n",
        "#! darknet/darknet detector train {GDRIVE_YOLO_CFG_PATH}/obj-cat17.data {GDRIVE_YOLO_CFG_PATH}/yolov4-cat17.cfg yolov4.conv.137 -dont_show | grep \"avg loss\"\n",
        "\n",
        "# (3) 使用最後一次訓練產生的weights - 訓練單一類別 person\n",
        "#! darknet/darknet detector train {GDRIVE_YOLO_CFG_PATH}/obj-person.data {GDRIVE_YOLO_CFG_PATH}/yolov4-person.cfg {GDRIVE_WEIGHTS_PATH}/yolov4-person_last.weights -dont_show | grep \"avg loss\"\n",
        "\n",
        "# (4) 使用最後一次訓練產生的weights - 訓練17種類別\n",
        "#! darknet/darknet detector train {GDRIVE_YOLO_CFG_PATH}/obj-cat17.data {GDRIVE_YOLO_CFG_PATH}/yolov4-cat17.cfg {GDRIVE_WEIGHTS_PATH}/yolov4-cat17_last.weights -dont_show | grep \"avg loss\""
      ],
      "execution_count": null,
      "outputs": []
    },
    {
      "cell_type": "code",
      "metadata": {
        "id": "sqCAo_gBk3Ab",
        "colab_type": "code",
        "colab": {}
      },
      "source": [
        ""
      ],
      "execution_count": null,
      "outputs": []
    }
  ]
}